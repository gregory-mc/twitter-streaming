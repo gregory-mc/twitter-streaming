{
  "nbformat": 4,
  "nbformat_minor": 0,
  "metadata": {
    "colab": {
      "name": "TStreaming.ipynb",
      "provenance": [],
      "authorship_tag": "ABX9TyMvZU4TyFYQLUyb6yaALQQk",
      "include_colab_link": true
    },
    "kernelspec": {
      "name": "python3",
      "display_name": "Python 3"
    },
    "language_info": {
      "name": "python"
    }
  },
  "cells": [
    {
      "cell_type": "markdown",
      "metadata": {
        "id": "view-in-github",
        "colab_type": "text"
      },
      "source": [
        "<a href=\"https://colab.research.google.com/github/gregory-mc/twitter-streaming/blob/main/TStreaming.ipynb\" target=\"_parent\"><img src=\"https://colab.research.google.com/assets/colab-badge.svg\" alt=\"Open In Colab\"/></a>"
      ]
    },
    {
      "cell_type": "markdown",
      "metadata": {
        "id": "MluimPPwmLIx"
      },
      "source": [
        "# TWITTER - API STREAMING\n",
        " (Python-Tweepy-Sqlite3) "
      ]
    },
    {
      "cell_type": "markdown",
      "metadata": {
        "id": "fuzODSqRm5cS"
      },
      "source": [
        "## Getting Tweets"
      ]
    },
    {
      "cell_type": "code",
      "metadata": {
        "colab": {
          "base_uri": "https://localhost:8080/"
        },
        "id": "AGg6CFS2wt8h",
        "outputId": "a0d8d787-62ad-4489-b83d-56e404758dd4"
      },
      "source": [
        "import tweepy\n",
        "import csv\n",
        "import dataset\n",
        "import json\n",
        "import datetime\n",
        "import sqlite3\n",
        "\n",
        "class TweetsListener(tweepy.StreamListener):\n",
        "\n",
        "    def on_connect(self):\n",
        "        print(\"I'm connected to API STREAMING!\")\n",
        "\n",
        "    def on_status(self, status):\n",
        "      if (not status.retweeted) and ('RT @' not in status.text):\n",
        "\n",
        "        user = status.user.name\n",
        "        name = status.user.screen_name\n",
        "        location = status.user.location\n",
        "        created = status.created_at\n",
        "        retweets = status.retweet_count\n",
        "        likes=status.favorite_count\n",
        "        try:\n",
        "            text = status.extended_tweet[\"full_text\"]\n",
        "        except AttributeError:\n",
        "            text = status.text\n",
        "        entities=(created,user,text,name,location,retweets,likes)\n",
        "        cursorObj.execute('''INSERT INTO tweets VALUES(?,?,?,?,?,?,?)''',entities)\n",
        "        con.commit()\n",
        "      return True\n",
        "\n",
        "\n",
        "    def on_error(self, status_code):\n",
        "        print(\"Error\", status_code)\n",
        "\n",
        "\n",
        "\n",
        "\n",
        "#Main.py or just Notebook file\n",
        "\n",
        "try:\n",
        "\n",
        "  # Puedes usar un archivo config o extraer de variables de entorno\n",
        "  # You can use a config file or enviroment vars\n",
        "  \n",
        "\n",
        "  #     API KEY     #\n",
        "  consumer_key = \"\"\n",
        "  consumer_secret = \"\"\n",
        "  access_token = \"\"\n",
        "  access_token_secret = \"\"\n",
        "\n",
        "\n",
        "  #     DATABASE     #\n",
        "  con = sqlite3.connect(\"tweets.db\") #database name\n",
        "  cursorObj = con.cursor()\n",
        "  cursorObj.execute(\"CREATE TABLE IF NOT EXISTS tweets(created date,user text, tweet text, user_name text,location text, retweets integer, likes integer)\")\n",
        "  con.commit()\n",
        "  \n",
        "\n",
        "  # AUTH API TWITTER #\n",
        "  auth = tweepy.OAuthHandler(consumer_key, consumer_secret)\n",
        "  auth.set_access_token(access_token, access_token_secret)\n",
        "  api = tweepy.API(auth, wait_on_rate_limit=True, wait_on_rate_limit_notify=True, )\n",
        "\n",
        "\n",
        "  #  API STREAMING   #\n",
        "  stream = TweetsListener()\n",
        "  streamingApi = tweepy.Stream(auth=api.auth, listener=stream)\n",
        "  streamingApi.filter(track=['#DebatePresidencialJNE']) # Peruvian Theme\n",
        "\n",
        "except KeyboardInterrupt: #I used Colab, so when I stopped it throwed an exception because i didn't use a  rate limit.\n",
        "  print(\"Se ha recolectado: \", cursorObj.execute(\"SELECT count(*) FROM tweets\").fetchall()[0][0])\n",
        "  con.close()\n",
        "\n"
      ],
      "execution_count": null,
      "outputs": [
        {
          "output_type": "stream",
          "text": [
            "Estoy conectado!\n",
            "Se ha recolectado:  8\n"
          ],
          "name": "stdout"
        }
      ]
    },
    {
      "cell_type": "markdown",
      "metadata": {
        "id": "RItiWS5smvt0"
      },
      "source": [
        "## Reading from database"
      ]
    },
    {
      "cell_type": "code",
      "metadata": {
        "colab": {
          "base_uri": "https://localhost:8080/",
          "height": 206
        },
        "id": "7CjVLDBpdmPa",
        "outputId": "ad6551ac-7cf2-4344-aa39-19dd7050f8e4"
      },
      "source": [
        "import pandas as pd\n",
        "con = sqlite3.connect(\"tweets.db\") #database name\n",
        "a=pd.read_sql(con=con,sql=\"SELECT * FROM tweets\")\n",
        "a.head()"
      ],
      "execution_count": null,
      "outputs": [
        {
          "output_type": "execute_result",
          "data": {
            "text/html": [
              "<div>\n",
              "<style scoped>\n",
              "    .dataframe tbody tr th:only-of-type {\n",
              "        vertical-align: middle;\n",
              "    }\n",
              "\n",
              "    .dataframe tbody tr th {\n",
              "        vertical-align: top;\n",
              "    }\n",
              "\n",
              "    .dataframe thead th {\n",
              "        text-align: right;\n",
              "    }\n",
              "</style>\n",
              "<table border=\"1\" class=\"dataframe\">\n",
              "  <thead>\n",
              "    <tr style=\"text-align: right;\">\n",
              "      <th></th>\n",
              "      <th>created</th>\n",
              "      <th>user</th>\n",
              "      <th>tweet</th>\n",
              "      <th>user_name</th>\n",
              "      <th>location</th>\n",
              "      <th>retweets</th>\n",
              "      <th>likes</th>\n",
              "    </tr>\n",
              "  </thead>\n",
              "  <tbody>\n",
              "    <tr>\n",
              "      <th>0</th>\n",
              "      <td>2021-03-29 20:33:33</td>\n",
              "      <td>danielgamboa02</td>\n",
              "      <td>#DebatePresidencialJNE Ya empezó la tendencia ...</td>\n",
              "      <td>danielgamboa021</td>\n",
              "      <td>None</td>\n",
              "      <td>0</td>\n",
              "      <td>0</td>\n",
              "    </tr>\n",
              "    <tr>\n",
              "      <th>1</th>\n",
              "      <td>2021-03-29 20:33:40</td>\n",
              "      <td>mar</td>\n",
              "      <td>holis, voten por mi gatito porfas\\n\\nhttps://t...</td>\n",
              "      <td>marimar54_</td>\n",
              "      <td>None</td>\n",
              "      <td>0</td>\n",
              "      <td>0</td>\n",
              "    </tr>\n",
              "    <tr>\n",
              "      <th>2</th>\n",
              "      <td>2021-03-29 20:33:40</td>\n",
              "      <td>Gregory Morales</td>\n",
              "      <td>Prueba 3 #DebatePresidencialJNE</td>\n",
              "      <td>gmorales_c</td>\n",
              "      <td>None</td>\n",
              "      <td>0</td>\n",
              "      <td>0</td>\n",
              "    </tr>\n",
              "    <tr>\n",
              "      <th>3</th>\n",
              "      <td>2021-03-29 20:34:00</td>\n",
              "      <td>Waliq</td>\n",
              "      <td>#NoALaLeyTrans #debatepresidencialjne</td>\n",
              "      <td>Waliq76139295</td>\n",
              "      <td>None</td>\n",
              "      <td>0</td>\n",
              "      <td>0</td>\n",
              "    </tr>\n",
              "    <tr>\n",
              "      <th>4</th>\n",
              "      <td>2021-03-29 20:34:08</td>\n",
              "      <td>VITALIDAD Y LONGEVIDAD</td>\n",
              "      <td>¿Quién te preparó el meme? porque de inteligen...</td>\n",
              "      <td>rennazzer</td>\n",
              "      <td>Perú</td>\n",
              "      <td>0</td>\n",
              "      <td>0</td>\n",
              "    </tr>\n",
              "  </tbody>\n",
              "</table>\n",
              "</div>"
            ],
            "text/plain": [
              "               created                    user  ... retweets likes\n",
              "0  2021-03-29 20:33:33          danielgamboa02  ...        0     0\n",
              "1  2021-03-29 20:33:40                     mar  ...        0     0\n",
              "2  2021-03-29 20:33:40         Gregory Morales  ...        0     0\n",
              "3  2021-03-29 20:34:00                   Waliq  ...        0     0\n",
              "4  2021-03-29 20:34:08  VITALIDAD Y LONGEVIDAD  ...        0     0\n",
              "\n",
              "[5 rows x 7 columns]"
            ]
          },
          "metadata": {
            "tags": []
          },
          "execution_count": 84
        }
      ]
    },
    {
      "cell_type": "code",
      "metadata": {
        "colab": {
          "base_uri": "https://localhost:8080/",
          "height": 301
        },
        "id": "ikVN4U7Dr-fe",
        "outputId": "db9971fc-41c8-4a1e-a992-93185b7c4402"
      },
      "source": [
        "a"
      ],
      "execution_count": null,
      "outputs": [
        {
          "output_type": "execute_result",
          "data": {
            "text/html": [
              "<div>\n",
              "<style scoped>\n",
              "    .dataframe tbody tr th:only-of-type {\n",
              "        vertical-align: middle;\n",
              "    }\n",
              "\n",
              "    .dataframe tbody tr th {\n",
              "        vertical-align: top;\n",
              "    }\n",
              "\n",
              "    .dataframe thead th {\n",
              "        text-align: right;\n",
              "    }\n",
              "</style>\n",
              "<table border=\"1\" class=\"dataframe\">\n",
              "  <thead>\n",
              "    <tr style=\"text-align: right;\">\n",
              "      <th></th>\n",
              "      <th>created</th>\n",
              "      <th>user</th>\n",
              "      <th>tweet</th>\n",
              "      <th>user_name</th>\n",
              "      <th>location</th>\n",
              "      <th>retweets</th>\n",
              "      <th>likes</th>\n",
              "    </tr>\n",
              "  </thead>\n",
              "  <tbody>\n",
              "    <tr>\n",
              "      <th>0</th>\n",
              "      <td>2021-03-29 20:33:33</td>\n",
              "      <td>danielgamboa02</td>\n",
              "      <td>#DebatePresidencialJNE Ya empezó la tendencia ...</td>\n",
              "      <td>danielgamboa021</td>\n",
              "      <td>None</td>\n",
              "      <td>0</td>\n",
              "      <td>0</td>\n",
              "    </tr>\n",
              "    <tr>\n",
              "      <th>1</th>\n",
              "      <td>2021-03-29 20:33:40</td>\n",
              "      <td>mar</td>\n",
              "      <td>holis, voten por mi gatito porfas\\n\\nhttps://t...</td>\n",
              "      <td>marimar54_</td>\n",
              "      <td>None</td>\n",
              "      <td>0</td>\n",
              "      <td>0</td>\n",
              "    </tr>\n",
              "    <tr>\n",
              "      <th>2</th>\n",
              "      <td>2021-03-29 20:33:40</td>\n",
              "      <td>Gregory Morales</td>\n",
              "      <td>Prueba 3 #DebatePresidencialJNE</td>\n",
              "      <td>gmorales_c</td>\n",
              "      <td>None</td>\n",
              "      <td>0</td>\n",
              "      <td>0</td>\n",
              "    </tr>\n",
              "    <tr>\n",
              "      <th>3</th>\n",
              "      <td>2021-03-29 20:34:00</td>\n",
              "      <td>Waliq</td>\n",
              "      <td>#NoALaLeyTrans #debatepresidencialjne</td>\n",
              "      <td>Waliq76139295</td>\n",
              "      <td>None</td>\n",
              "      <td>0</td>\n",
              "      <td>0</td>\n",
              "    </tr>\n",
              "    <tr>\n",
              "      <th>4</th>\n",
              "      <td>2021-03-29 20:34:08</td>\n",
              "      <td>VITALIDAD Y LONGEVIDAD</td>\n",
              "      <td>¿Quién te preparó el meme? porque de inteligen...</td>\n",
              "      <td>rennazzer</td>\n",
              "      <td>Perú</td>\n",
              "      <td>0</td>\n",
              "      <td>0</td>\n",
              "    </tr>\n",
              "    <tr>\n",
              "      <th>5</th>\n",
              "      <td>2021-03-29 20:34:30</td>\n",
              "      <td>danielgamboa02</td>\n",
              "      <td>#DebatePresidencialJNE</td>\n",
              "      <td>danielgamboa021</td>\n",
              "      <td>None</td>\n",
              "      <td>0</td>\n",
              "      <td>0</td>\n",
              "    </tr>\n",
              "    <tr>\n",
              "      <th>6</th>\n",
              "      <td>2021-03-29 20:34:34</td>\n",
              "      <td>Un Gordito</td>\n",
              "      <td>¿Para el debate de hoy se compran piqueos y ce...</td>\n",
              "      <td>ungorditoart</td>\n",
              "      <td>None</td>\n",
              "      <td>0</td>\n",
              "      <td>0</td>\n",
              "    </tr>\n",
              "    <tr>\n",
              "      <th>7</th>\n",
              "      <td>2021-03-29 20:34:37</td>\n",
              "      <td>🦋 Flore 🦋</td>\n",
              "      <td>Espero que aquí haya seriedad por parte de los...</td>\n",
              "      <td>florebass</td>\n",
              "      <td>Lima-Peru</td>\n",
              "      <td>0</td>\n",
              "      <td>0</td>\n",
              "    </tr>\n",
              "  </tbody>\n",
              "</table>\n",
              "</div>"
            ],
            "text/plain": [
              "               created                    user  ... retweets likes\n",
              "0  2021-03-29 20:33:33          danielgamboa02  ...        0     0\n",
              "1  2021-03-29 20:33:40                     mar  ...        0     0\n",
              "2  2021-03-29 20:33:40         Gregory Morales  ...        0     0\n",
              "3  2021-03-29 20:34:00                   Waliq  ...        0     0\n",
              "4  2021-03-29 20:34:08  VITALIDAD Y LONGEVIDAD  ...        0     0\n",
              "5  2021-03-29 20:34:30          danielgamboa02  ...        0     0\n",
              "6  2021-03-29 20:34:34              Un Gordito  ...        0     0\n",
              "7  2021-03-29 20:34:37               🦋 Flore 🦋  ...        0     0\n",
              "\n",
              "[8 rows x 7 columns]"
            ]
          },
          "metadata": {
            "tags": []
          },
          "execution_count": 85
        }
      ]
    },
    {
      "cell_type": "code",
      "metadata": {
        "colab": {
          "base_uri": "https://localhost:8080/"
        },
        "id": "pP70FaoYpDDH",
        "outputId": "d7c0b9ab-6621-4f2e-d396-9bf763448588"
      },
      "source": [
        "a.info()"
      ],
      "execution_count": null,
      "outputs": [
        {
          "output_type": "stream",
          "text": [
            "<class 'pandas.core.frame.DataFrame'>\n",
            "RangeIndex: 1 entries, 0 to 0\n",
            "Data columns (total 6 columns):\n",
            " #   Column          Non-Null Count  Dtype \n",
            "---  ------          --------------  ----- \n",
            " 0   user            1 non-null      object\n",
            " 1   tweet           1 non-null      object\n",
            " 2   user_name       1 non-null      object\n",
            " 3   user_followers  1 non-null      int64 \n",
            " 4   created         1 non-null      object\n",
            " 5   retweet_count   1 non-null      int64 \n",
            "dtypes: int64(2), object(4)\n",
            "memory usage: 176.0+ bytes\n"
          ],
          "name": "stdout"
        }
      ]
    },
    {
      "cell_type": "markdown",
      "metadata": {
        "id": "OdEYtmb_k59e"
      },
      "source": [
        "This file was made to get data for a study case.\n",
        "\n",
        "# **References**\n",
        "\n",
        "1.   [Tomas Reneboldi](https://tomasreneboldi.medium.com/c%C3%B3mo-obtener-datos-de-twitter-hacer-todo-esto-con-tweepy-3-5-21d60cd6e2c1)\n",
        "2.   [Tutorial de Python SQLite3](https://likegeeks.com/es/tutorial-de-python-sqlite3/)\n",
        "\n"
      ]
    }
  ]
}